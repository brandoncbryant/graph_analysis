{
 "cells": [
  {
   "cell_type": "markdown",
   "id": "666d80b0",
   "metadata": {},
   "source": [
    "## Link Prediction\n",
    "https://docs.dgl.ai/tutorials/blitz/4_link_predict.html#sphx-glr-tutorials-blitz-4-link-predict-py"
   ]
  },
  {
   "cell_type": "code",
   "execution_count": 1,
   "id": "f21e1999",
   "metadata": {},
   "outputs": [],
   "source": [
    "import dgl\n",
    "import torch\n",
    "import torch.nn as nn\n",
    "import torch.nn.functional as F\n",
    "import itertools\n",
    "import numpy as np\n",
    "import scipy.sparse as sp"
   ]
  },
  {
   "cell_type": "code",
   "execution_count": 2,
   "id": "8cbadebd",
   "metadata": {},
   "outputs": [],
   "source": [
    "import networkx as nx"
   ]
  },
  {
   "cell_type": "markdown",
   "id": "d392ed03",
   "metadata": {},
   "source": [
    "## Overview of Link Prediction with GNN"
   ]
  },
  {
   "cell_type": "markdown",
   "id": "306e1e72",
   "metadata": {},
   "source": [
    "This tutorial formulates the link prediction problem as a binary classification problem as follows:\n",
    "- Treat the edges in the graph as *positive examples*.\n",
    "- Sample a number of non-existent edges (i.e. node paris with no edges between them) as *negative* examples\n",
    "- Divide the positive examples and negative examples into a training set and a test set.\n",
    "- Evaluate the model with any binary classification metric such as Area Under Curve (AUC)."
   ]
  },
  {
   "cell_type": "markdown",
   "id": "03047158",
   "metadata": {},
   "source": [
    "<div class=\"alert alert-info\">\n",
    "<b>NOTE:</b> \n",
    "    The practice comes from SEAL, although the model here does not use their idea of node labeling.\n",
    "</div>"
   ]
  },
  {
   "cell_type": "markdown",
   "id": "539b6743",
   "metadata": {},
   "source": [
    "In some domains such as large-scale recommender systems or information retrieval, you may favor metrics that emphasize good performance or top-K predictions. In these cases you may want to consider other metrics such as mean average precision, and use other negative sampling methods."
   ]
  },
  {
   "cell_type": "markdown",
   "id": "2825cc6c",
   "metadata": {},
   "source": [
    "## Loading graph and features"
   ]
  },
  {
   "cell_type": "code",
   "execution_count": 3,
   "id": "44532de9",
   "metadata": {},
   "outputs": [
    {
     "name": "stdout",
     "output_type": "stream",
     "text": [
      "  NumNodes: 2708\n",
      "  NumEdges: 10556\n",
      "  NumFeats: 1433\n",
      "  NumClasses: 7\n",
      "  NumTrainingSamples: 140\n",
      "  NumValidationSamples: 500\n",
      "  NumTestSamples: 1000\n",
      "Done loading data from cached files.\n"
     ]
    },
    {
     "data": {
      "text/plain": [
       "Dataset(\"cora_v2\", num_graphs=1, save_path=/home/chuck/.dgl/cora_v2)"
      ]
     },
     "execution_count": 3,
     "metadata": {},
     "output_type": "execute_result"
    }
   ],
   "source": [
    "##\n",
    "dataset = dgl.data.CoraGraphDataset()\n",
    "dataset"
   ]
  },
  {
   "cell_type": "code",
   "execution_count": 4,
   "id": "6d1d61f0",
   "metadata": {},
   "outputs": [
    {
     "name": "stdout",
     "output_type": "stream",
     "text": [
      "This dataset has only one graph\n"
     ]
    }
   ],
   "source": [
    "try:\n",
    "    dataset[1]\n",
    "except AssertionError as e:\n",
    "    print(e)"
   ]
  },
  {
   "cell_type": "code",
   "execution_count": 5,
   "id": "997bb13d",
   "metadata": {},
   "outputs": [
    {
     "data": {
      "text/plain": [
       "Graph(num_nodes=2708, num_edges=10556,\n",
       "      ndata_schemes={'feat': Scheme(shape=(1433,), dtype=torch.float32), 'label': Scheme(shape=(), dtype=torch.int64), 'test_mask': Scheme(shape=(), dtype=torch.bool), 'val_mask': Scheme(shape=(), dtype=torch.bool), 'train_mask': Scheme(shape=(), dtype=torch.bool)}\n",
       "      edata_schemes={'__orig__': Scheme(shape=(), dtype=torch.int64)})"
      ]
     },
     "execution_count": 5,
     "metadata": {},
     "output_type": "execute_result"
    }
   ],
   "source": [
    "##\n",
    "g = dataset[0]\n",
    "g"
   ]
  },
  {
   "cell_type": "code",
   "execution_count": 25,
   "id": "40488516",
   "metadata": {},
   "outputs": [
    {
     "data": {
      "text/plain": [
       "{'_graph': <dgl.heterograph_index.HeteroGraphIndex at 0x7fe1c45bc0c0>,\n",
       " '_canonical_etypes': [('_N', '_E', '_N')],\n",
       " '_batch_num_nodes': None,\n",
       " '_batch_num_edges': None,\n",
       " '_ntypes': ['_N'],\n",
       " '_is_unibipartite': False,\n",
       " '_srctypes_invmap': {'_N': 0},\n",
       " '_dsttypes_invmap': {'_N': 0},\n",
       " '_etypes': ['_E'],\n",
       " '_etype2canonical': {'_E': ('_N', '_E', '_N')},\n",
       " '_etypes_invmap': {('_N', '_E', '_N'): 0},\n",
       " '_node_frames': [{'feat': tensor([[0.0000, 0.0000, 0.0000,  ..., 0.0000, 0.0000, 0.0000],\n",
       "          [0.0000, 0.0000, 0.0000,  ..., 0.0000, 0.0000, 0.0000],\n",
       "          [0.0000, 0.0000, 0.0000,  ..., 0.0000, 0.0000, 0.0000],\n",
       "          ...,\n",
       "          [0.0000, 0.0000, 0.0000,  ..., 0.0000, 0.0000, 0.0000],\n",
       "          [0.0000, 0.0000, 0.0000,  ..., 0.0000, 0.0000, 0.0000],\n",
       "          [0.0000, 0.0000, 0.0000,  ..., 0.0000, 0.0526, 0.0000]]), 'label': tensor([4, 4, 4,  ..., 4, 3, 3]), 'test_mask': tensor([ True,  True, False,  ..., False, False, False]), 'val_mask': tensor([False, False,  True,  ..., False, False, False]), 'train_mask': tensor([False, False, False,  ..., False, False, False])}],\n",
       " '_edge_frames': [{'__orig__': tensor([  298,  9199,  1153,  ..., 10415,  5255,  6356])}]}"
      ]
     },
     "execution_count": 25,
     "metadata": {},
     "output_type": "execute_result"
    }
   ],
   "source": [
    "g.__dict__"
   ]
  },
  {
   "cell_type": "code",
   "execution_count": 38,
   "id": "41050e6b",
   "metadata": {},
   "outputs": [
    {
     "name": "stdout",
     "output_type": "stream",
     "text": [
      "is_unibipartite: False\n",
      "is_multigraph: False\n",
      "is_homogeneous: True\n",
      "g.ntypes: ['_N']\n",
      "g.etypes: ['_E']\n",
      "canonical_etypes: [('_N', '_E', '_N')]\n",
      "srctypes: ['_N']\n",
      "dsttypes: ['_N']\n",
      "metagraph: MultiDiGraph with 1 nodes and 1 edges\n"
     ]
    }
   ],
   "source": [
    "print(f'is_unibipartite: {g.is_unibipartite}')\n",
    "print(f'is_multigraph: {g.is_multigraph}')\n",
    "print(f'is_homogeneous: {g.is_homogeneous}')\n",
    "\n",
    "\n",
    "print(f'g.ntypes: {g.ntypes}')\n",
    "print(f'g.etypes: {g.etypes}')\n",
    "\n",
    "print(f'canonical_etypes: {g.canonical_etypes}')\n",
    "print(f'srctypes: {g.srctypes}')\n",
    "print(f'dsttypes: {g.dsttypes}')\n",
    "print(f'metagraph: {g.metagraph()}')"
   ]
  },
  {
   "cell_type": "code",
   "execution_count": 44,
   "id": "63242480",
   "metadata": {},
   "outputs": [
    {
     "data": {
      "text/plain": [
       "{'feat': Scheme(shape=(1433,), dtype=torch.float32),\n",
       " 'label': Scheme(shape=(), dtype=torch.int64),\n",
       " 'test_mask': Scheme(shape=(), dtype=torch.bool),\n",
       " 'val_mask': Scheme(shape=(), dtype=torch.bool),\n",
       " 'train_mask': Scheme(shape=(), dtype=torch.bool)}"
      ]
     },
     "execution_count": 44,
     "metadata": {},
     "output_type": "execute_result"
    }
   ],
   "source": [
    "g.node_attr_schemes()"
   ]
  },
  {
   "cell_type": "code",
   "execution_count": 45,
   "id": "ad2c09ca",
   "metadata": {},
   "outputs": [
    {
     "name": "stdout",
     "output_type": "stream",
     "text": [
      "--- ndata ---\n",
      "feat\n",
      "torch.Size([2708, 1433])\n",
      "\n",
      "label\n",
      "torch.Size([2708])\n",
      "\n",
      "test_mask\n",
      "torch.Size([2708])\n",
      "\n",
      "val_mask\n",
      "torch.Size([2708])\n",
      "\n",
      "train_mask\n",
      "torch.Size([2708])\n",
      "\n",
      "--- edata ---\n",
      "__orig__\n",
      "torch.Size([10556])\n",
      "\n"
     ]
    }
   ],
   "source": [
    "## ndata\n",
    "print(\"--- ndata ---\")\n",
    "for k in g.ndata.keys():\n",
    "    print(k)\n",
    "    if torch.is_tensor(g.ndata[k]):\n",
    "        print(g.ndata[k].shape)\n",
    "    else:\n",
    "        print(g.ndata[k])\n",
    "    print()\n",
    "    \n",
    "## edata\n",
    "print(\"--- edata ---\")\n",
    "for k in g.edata.keys():\n",
    "    print(k)\n",
    "    if torch.is_tensor(g.edata[k]):\n",
    "        print(g.edata[k].shape)\n",
    "    else:\n",
    "        print(g.edata[k])\n",
    "    print()"
   ]
  },
  {
   "cell_type": "code",
   "execution_count": 70,
   "id": "a3a56e2e",
   "metadata": {},
   "outputs": [
    {
     "name": "stdout",
     "output_type": "stream",
     "text": [
      "nodes: tensor([   0,    1,    2,  ..., 2705, 2706, 2707])\n"
     ]
    }
   ],
   "source": [
    "print(f'nodes: {g.nodes()}')"
   ]
  },
  {
   "cell_type": "code",
   "execution_count": 61,
   "id": "354031b6",
   "metadata": {},
   "outputs": [
    {
     "name": "stdout",
     "output_type": "stream",
     "text": [
      "edges: (tensor([   3,    5,    6,  ..., 2704, 2707, 2706]), tensor([   0,    0,    0,  ..., 2705, 2706, 2707]))\n"
     ]
    }
   ],
   "source": [
    "print(f'edges: {g.edges()}')"
   ]
  },
  {
   "cell_type": "code",
   "execution_count": 66,
   "id": "c4e323b4",
   "metadata": {},
   "outputs": [
    {
     "data": {
      "text/plain": [
       "1"
      ]
     },
     "execution_count": 66,
     "metadata": {},
     "output_type": "execute_result"
    }
   ],
   "source": [
    "g.edge_ids(5, 0)"
   ]
  },
  {
   "cell_type": "code",
   "execution_count": 74,
   "id": "21bd648f",
   "metadata": {},
   "outputs": [
    {
     "name": "stdout",
     "output_type": "stream",
     "text": [
      "source nodes: tensor([   0,    1,    2,  ..., 2705, 2706, 2707]), 2708\n"
     ]
    }
   ],
   "source": [
    "print(f'source nodes: {g.srcnodes()}, {g.number_of_src_nodes()}')"
   ]
  },
  {
   "cell_type": "code",
   "execution_count": 75,
   "id": "41dbdc84",
   "metadata": {},
   "outputs": [
    {
     "name": "stdout",
     "output_type": "stream",
     "text": [
      "destination nodes: tensor([   0,    1,    2,  ..., 2705, 2706, 2707]), 2708\n"
     ]
    }
   ],
   "source": [
    "print(f'destination nodes: {g.dstnodes()}, {g.number_of_dst_nodes()}')"
   ]
  },
  {
   "cell_type": "markdown",
   "id": "88e2621c",
   "metadata": {},
   "source": [
    "## Prepare training and testing sets"
   ]
  },
  {
   "cell_type": "markdown",
   "id": "194668b4",
   "metadata": {},
   "source": [
    "This tutorial randomly picks 10% of the edges for positive examples in the test set and leaves the rest for the training set. It then samples the same number of edges for negative examples in both sets."
   ]
  },
  {
   "cell_type": "code",
   "execution_count": 71,
   "id": "d65f28bf",
   "metadata": {},
   "outputs": [],
   "source": [
    "# separate (src, dst) pairs of each edge\n",
    "u, v = g.edges()"
   ]
  },
  {
   "cell_type": "code",
   "execution_count": 184,
   "id": "a0bfeeb7",
   "metadata": {},
   "outputs": [
    {
     "data": {
      "text/plain": [
       "(10556, 10556)"
      ]
     },
     "execution_count": 184,
     "metadata": {},
     "output_type": "execute_result"
    }
   ],
   "source": [
    "len(u), len(v)"
   ]
  },
  {
   "cell_type": "code",
   "execution_count": 78,
   "id": "fe438538",
   "metadata": {},
   "outputs": [
    {
     "data": {
      "text/plain": [
       "array([8382, 8684, 2378, ..., 3594, 6782, 6159])"
      ]
     },
     "execution_count": 78,
     "metadata": {},
     "output_type": "execute_result"
    }
   ],
   "source": [
    "# create edge indices and shuffle them\n",
    "eids = np.arange(g.number_of_edges())\n",
    "eids = np.random.permutation(eids)\n",
    "eids"
   ]
  },
  {
   "cell_type": "code",
   "execution_count": 83,
   "id": "7ac42993",
   "metadata": {},
   "outputs": [],
   "source": [
    "# split into train/test sets\n",
    "test_size = int(len(eids) * 0.1)\n",
    "test_eids = eids[:test_size]\n",
    "test_pos_u, test_pos_v = u[test_eids], v[test_eids]\n",
    "\n",
    "train_size = g.number_of_edges() - test_size\n",
    "train_eids = eids[test_size:]\n",
    "train_pos_u, train_pos_v = u[train_eids], v[train_eids]"
   ]
  },
  {
   "cell_type": "markdown",
   "id": "1b54f157",
   "metadata": {},
   "source": [
    "#### Aside: finding negative edges\n",
    "- Here we try to understand the method used in the tutorial to find the negative edges. \n",
    "- It seems to assume there are no self-loops."
   ]
  },
  {
   "cell_type": "code",
   "execution_count": 94,
   "id": "dced9922",
   "metadata": {},
   "outputs": [
    {
     "data": {
      "text/plain": [
       "array([[1, 1, 0, 1],\n",
       "       [1, 0, 1, 0],\n",
       "       [0, 0, 1, 0],\n",
       "       [0, 0, 1, 1]])"
      ]
     },
     "execution_count": 94,
     "metadata": {},
     "output_type": "execute_result"
    }
   ],
   "source": [
    "# generate a random adjacency matrix\n",
    "n = 4\n",
    "a = np.random.randint(0, 2, size=(n, n))\n",
    "a"
   ]
  },
  {
   "cell_type": "code",
   "execution_count": 145,
   "id": "15ba4771",
   "metadata": {},
   "outputs": [
    {
     "data": {
      "text/plain": [
       "array([[0, 1, 0, 1],\n",
       "       [1, 0, 1, 0],\n",
       "       [0, 0, 0, 0],\n",
       "       [0, 0, 1, 0]])"
      ]
     },
     "execution_count": 145,
     "metadata": {},
     "output_type": "execute_result"
    }
   ],
   "source": [
    "# remove self-loops\n",
    "for i in range(n):\n",
    "    a[i, i] = 0\n",
    "\n",
    "a"
   ]
  },
  {
   "cell_type": "code",
   "execution_count": 161,
   "id": "2e6e0660",
   "metadata": {},
   "outputs": [
    {
     "name": "stdout",
     "output_type": "stream",
     "text": [
      "(array([0, 0, 1, 1, 2, 2, 2, 2, 3, 3, 3]), array([0, 2, 1, 3, 0, 1, 2, 3, 0, 1, 3]))\n"
     ]
    }
   ],
   "source": [
    "# want to determine where the negative edges are like this, but remove self-loops\n",
    "nm = np.where(a==0)\n",
    "print(nm)"
   ]
  },
  {
   "cell_type": "code",
   "execution_count": 162,
   "id": "7ae42e28",
   "metadata": {},
   "outputs": [
    {
     "name": "stdout",
     "output_type": "stream",
     "text": [
      "(array([0, 0, 1, 1, 3]), array([1, 3, 0, 2, 2]))\n"
     ]
    }
   ],
   "source": [
    "# this is the form of g.adjacency_matrix() (our starting point)\n",
    "am = np.where(a==1) \n",
    "print(am)"
   ]
  },
  {
   "cell_type": "code",
   "execution_count": 163,
   "id": "7e6e29e1",
   "metadata": {},
   "outputs": [
    {
     "name": "stdout",
     "output_type": "stream",
     "text": [
      "[[0. 1. 0. 1.]\n",
      " [1. 0. 1. 0.]\n",
      " [0. 0. 0. 0.]\n",
      " [0. 0. 1. 0.]]\n"
     ]
    }
   ],
   "source": [
    "# create adjacency matrix\n",
    "uu, vv = am\n",
    "adjm = sp.coo_matrix((np.ones(len(uu)), (uu, vv))).todense()\n",
    "print(adjm)"
   ]
  },
  {
   "cell_type": "code",
   "execution_count": 164,
   "id": "aee83381",
   "metadata": {},
   "outputs": [
    {
     "data": {
      "text/plain": [
       "[(0, 0),\n",
       " (0, 2),\n",
       " (1, 1),\n",
       " (1, 3),\n",
       " (2, 0),\n",
       " (2, 1),\n",
       " (2, 2),\n",
       " (2, 3),\n",
       " (3, 0),\n",
       " (3, 1),\n",
       " (3, 3)]"
      ]
     },
     "execution_count": 164,
     "metadata": {},
     "output_type": "execute_result"
    }
   ],
   "source": [
    "# observe where adjacency has missing links; note the presence of the self-loops\n",
    "adjm_sp = list(zip(*np.where(adjm == 0)))\n",
    "adjm_sp"
   ]
  },
  {
   "cell_type": "code",
   "execution_count": 151,
   "id": "e210f30e",
   "metadata": {},
   "outputs": [
    {
     "data": {
      "text/plain": [
       "matrix([[0., 0., 1., 0.],\n",
       "        [0., 0., 0., 1.],\n",
       "        [1., 1., 0., 1.],\n",
       "        [1., 1., 0., 0.]])"
      ]
     },
     "execution_count": 151,
     "metadata": {},
     "output_type": "execute_result"
    }
   ],
   "source": [
    "# start with all ones, remove the adjacency matrix ones, and then remove the self-loops\n",
    "negm = 1 - adjm - np.eye(n)\n",
    "negm"
   ]
  },
  {
   "cell_type": "code",
   "execution_count": 165,
   "id": "bd83d59d",
   "metadata": {},
   "outputs": [
    {
     "data": {
      "text/plain": [
       "[(0, 2), (1, 3), (2, 0), (2, 1), (2, 3), (3, 0), (3, 1)]"
      ]
     },
     "execution_count": 165,
     "metadata": {},
     "output_type": "execute_result"
    }
   ],
   "source": [
    "# this is our desired set of negative pairs\n",
    "negm_sp = list(zip(*np.where(negm != 0)))\n",
    "negm_sp"
   ]
  },
  {
   "cell_type": "code",
   "execution_count": 166,
   "id": "51d42ce4",
   "metadata": {},
   "outputs": [
    {
     "name": "stdout",
     "output_type": "stream",
     "text": [
      "set()\n",
      "{(1, 1), (3, 3), (2, 2), (0, 0)}\n",
      "{(0, 0), (1, 1), (3, 3), (2, 2)}\n"
     ]
    }
   ],
   "source": [
    "# comparison to show the need for removing self-loops\n",
    "print(set(negm_sp).difference(set(adjm_sp)))\n",
    "print(set(adjm_sp).difference(set(negm_sp)))\n",
    "print(set(negm_sp).symmetric_difference(set(adjm_sp)))"
   ]
  },
  {
   "cell_type": "markdown",
   "id": "f6c98190",
   "metadata": {},
   "source": [
    "#### Resume"
   ]
  },
  {
   "cell_type": "code",
   "execution_count": 181,
   "id": "16a91a20",
   "metadata": {},
   "outputs": [],
   "source": [
    "# find all negative edges\n",
    "adj = sp.coo_matrix((np.ones(len(u)), (u.numpy(), v.numpy())))\n",
    "\n",
    "assert adj.shape[0] == g.number_of_nodes()  # LHS probably more reliable; RHS follows tutorial\n",
    "adj_neg = 1 - adj.todense() - np.eye(g.number_of_nodes())\n",
    "neg_u, neg_v = np.where(adj_neg != 0)"
   ]
  },
  {
   "cell_type": "code",
   "execution_count": 185,
   "id": "f6db90f4",
   "metadata": {},
   "outputs": [
    {
     "data": {
      "text/plain": [
       "(7320000, 7320000)"
      ]
     },
     "execution_count": 185,
     "metadata": {},
     "output_type": "execute_result"
    }
   ],
   "source": [
    "# the number of negative edges is much larger than the number of positive edges \n",
    "# because it represents every possible edge minus the positive edges\n",
    "len(neg_u), len(neg_v)"
   ]
  },
  {
   "cell_type": "markdown",
   "id": "17ed9549",
   "metadata": {},
   "source": [
    "As noted above, we are going to sample a number of negative edges equal to the number of positive edges.\n",
    "- assign an index to each element of `neg_u`, randomly permute them, and then keep a number equal to the number of positive edges\n",
    "- Note: this is different than the tutorial which samples with replacement"
   ]
  },
  {
   "cell_type": "code",
   "execution_count": 244,
   "id": "198f5bf2",
   "metadata": {},
   "outputs": [],
   "source": [
    "# split negative edges into train/test\n",
    "# neg_eids = np.random.choice(len(neg_u), g.number_of_edges())  # tutorial method\n",
    "neg_eids = np.random.permutation(np.arange(len(eids)))[:g.number_of_edges()]\n",
    "test_neg_u, test_neg_v = neg_u[neg_eids[:test_size]], neg_v[neg_eids[:test_size]]\n",
    "train_neg_u, train_neg_v = neg_u[neg_eids[:train_size]], neg_v[neg_eids[:train_size]]"
   ]
  },
  {
   "cell_type": "code",
   "execution_count": 250,
   "id": "aa714d3b",
   "metadata": {},
   "outputs": [],
   "source": [
    "# verify we have the same number of positive and negative edges\n",
    "assert len(neg_eids) == len(eids)\n",
    "assert len(test_pos_u) == len(test_neg_u)"
   ]
  },
  {
   "cell_type": "markdown",
   "id": "61c420c5",
   "metadata": {},
   "source": [
    "When training, we need to remove the edges in the test set from the original graph. This can be done with `dgl.remove_edges`.\n",
    "\n",
    "<div class=\"alert alert-info\">\n",
    "    <b>Note</b>: <code>dgl.remove_edges</code> works by creating a subgraph from the original graph which results in a copy.\n",
    "</div>   "
   ]
  },
  {
   "cell_type": "code",
   "execution_count": 254,
   "id": "fe56e3a8",
   "metadata": {},
   "outputs": [],
   "source": [
    "## get train graph by removing test edges from the full graph\n",
    "## reminder: `eids[:test_size]` are the indices that were used to sample from `u`, `v` to make the test set\n",
    "train_g = dgl.remove_edges(g, eids[:test_size])"
   ]
  },
  {
   "cell_type": "markdown",
   "id": "c38799bd",
   "metadata": {},
   "source": [
    "## Define a GraphSAGE model"
   ]
  },
  {
   "cell_type": "markdown",
   "id": "f6e0a7c5",
   "metadata": {},
   "source": [
    "This tutorial builds a model consisting of two GraphSAGE layers, each computes new node representations by averaging neighbor information. DGL provides `dgl.nn.SAGEConv` that conveniently creates a GraphSAGE layer."
   ]
  },
  {
   "cell_type": "code",
   "execution_count": 255,
   "id": "f15ae945",
   "metadata": {},
   "outputs": [],
   "source": [
    "from dgl.nn import SAGEConv"
   ]
  },
  {
   "cell_type": "code",
   "execution_count": 256,
   "id": "a85a14eb",
   "metadata": {},
   "outputs": [],
   "source": [
    "## build a two-layer GraphSAGE model\n",
    "class GraphSAGE(nn.Module):\n",
    "    def __init__(self, in_feats, h_feats):\n",
    "        super().__init__()\n",
    "        self.conv1 = SAGEConv(in_feats, h_feats, 'mean')\n",
    "        self.conv2 = SAGEConv(h_feats, h_feats, 'mean')\n",
    "        \n",
    "    def forward(self, g, in_feat):\n",
    "        h = self.conv1(g, in_feat)\n",
    "        h = F.relu(h)\n",
    "        h = self.conv2(g, h)\n",
    "        return h"
   ]
  },
  {
   "cell_type": "code",
   "execution_count": null,
   "id": "19494f82",
   "metadata": {},
   "outputs": [],
   "source": []
  }
 ],
 "metadata": {
  "kernelspec": {
   "display_name": "Python 3 (ipykernel)",
   "language": "python",
   "name": "python3"
  },
  "language_info": {
   "codemirror_mode": {
    "name": "ipython",
    "version": 3
   },
   "file_extension": ".py",
   "mimetype": "text/x-python",
   "name": "python",
   "nbconvert_exporter": "python",
   "pygments_lexer": "ipython3",
   "version": "3.10.4"
  }
 },
 "nbformat": 4,
 "nbformat_minor": 5
}
